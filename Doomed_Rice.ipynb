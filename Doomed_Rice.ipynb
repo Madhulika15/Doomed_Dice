{
  "nbformat": 4,
  "nbformat_minor": 0,
  "metadata": {
    "colab": {
      "provenance": [],
      "toc_visible": true
    },
    "kernelspec": {
      "name": "python3",
      "display_name": "Python 3"
    },
    "language_info": {
      "name": "python"
    }
  },
  "cells": [
    {
      "cell_type": "code",
      "execution_count": 1,
      "metadata": {
        "colab": {
          "base_uri": "https://localhost:8080/"
        },
        "id": "t9BWIZrR8egG",
        "outputId": "3bd57a7b-fa8d-425f-e023-ef294ff41a8b"
      },
      "outputs": [
        {
          "output_type": "stream",
          "name": "stdout",
          "text": [
            "Total Outcomes: 36\n",
            "Sum Distribution and Probabilities:\n",
            "Sum = 2: Count = 1, P(Sum = 2) = 0.0278\n",
            "Sum = 3: Count = 2, P(Sum = 3) = 0.0556\n",
            "Sum = 4: Count = 3, P(Sum = 4) = 0.0833\n",
            "Sum = 5: Count = 4, P(Sum = 5) = 0.1111\n",
            "Sum = 6: Count = 5, P(Sum = 6) = 0.1389\n",
            "Sum = 7: Count = 6, P(Sum = 7) = 0.1667\n",
            "Sum = 8: Count = 5, P(Sum = 8) = 0.1389\n",
            "Sum = 9: Count = 4, P(Sum = 9) = 0.1111\n",
            "Sum = 10: Count = 3, P(Sum = 10) = 0.0833\n",
            "Sum = 11: Count = 2, P(Sum = 11) = 0.0556\n",
            "Sum = 12: Count = 1, P(Sum = 12) = 0.0278\n",
            "New Die A (<=4 spots): [4, 1, 1, 1, 1, 1]\n",
            "New Die B: [9, 8, 7, 6, 1, 1]\n"
          ]
        }
      ],
      "source": [
        "from collections import defaultdict\n",
        "\n",
        "def dice_combinations(die_a, die_b):\n",
        "    total_combinations = []\n",
        "    for a in die_a:\n",
        "        for b in die_b:\n",
        "            total_combinations.append((a, b))\n",
        "    return total_combinations\n",
        "\n",
        "def distribution_and_probability(die_a, die_b):\n",
        "    combinations = dice_combinations(die_a, die_b)\n",
        "    distribution = defaultdict(int)\n",
        "\n",
        "    for a, b in combinations:\n",
        "        distribution[a + b] += 1\n",
        "\n",
        "    total_outcomes = len(combinations)\n",
        "\n",
        "    print(\"Total Outcomes:\", total_outcomes)\n",
        "\n",
        "    print(\"Sum Distribution and Probabilities:\")\n",
        "    for s in sorted(distribution.keys()):\n",
        "        probability = distribution[s] / total_outcomes\n",
        "        print(f\"Sum = {s}: Count = {distribution[s]}, P(Sum = {s}) = {probability:.4f}\")\n",
        "\n",
        "    return distribution\n",
        "\n",
        "def undoom_dice(die_a, die_b):\n",
        "    distribution = distribution_and_probability(die_a, die_b)\n",
        "\n",
        "    new_die_a = [1] * 6\n",
        "    new_die_b = [1] * 6\n",
        "\n",
        "\n",
        "    for s in sorted(distribution.keys()):\n",
        "        count = distribution[s]\n",
        "\n",
        "        for i in range(6):\n",
        "            for j in range(6):\n",
        "                if new_die_a[i] + new_die_b[j] == s and count > 0:\n",
        "                    if new_die_a[i] < 4:\n",
        "                        new_die_a[i] += 1\n",
        "                        count -= 1\n",
        "                    else:\n",
        "                        new_die_b[j] += 1\n",
        "                        count -= 1\n",
        "\n",
        "    print(\"New Die A (<=4 spots):\", new_die_a)\n",
        "    print(\"New Die B:\", new_die_b)\n",
        "\n",
        "die_a = [1, 2, 3, 4, 5, 6]\n",
        "die_b = [1, 2, 3, 4, 5, 6]\n",
        "\n",
        "undoom_dice(die_a, die_b)\n"
      ]
    }
  ]
}